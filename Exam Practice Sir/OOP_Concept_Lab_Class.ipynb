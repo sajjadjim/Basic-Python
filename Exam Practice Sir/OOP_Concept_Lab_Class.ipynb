{
  "nbformat": 4,
  "nbformat_minor": 0,
  "metadata": {
    "colab": {
      "provenance": []
    },
    "kernelspec": {
      "name": "python3",
      "display_name": "Python 3"
    },
    "language_info": {
      "name": "python"
    }
  },
  "cells": [
    {
      "cell_type": "code",
      "execution_count": 12,
      "metadata": {
        "colab": {
          "base_uri": "https://localhost:8080/"
        },
        "id": "1hdIqunxNcdG",
        "outputId": "5da7b0b0-56c9-4c85-dc63-ed4dda88c5b0"
      },
      "outputs": [
        {
          "output_type": "stream",
          "name": "stdout",
          "text": [
            "Mohammed Shahabuddin\n",
            "CSE department information is sucessfully inserted\n",
            "Method is not overridden\n",
            "Hi 221-15-4997, Your registration will be done by dept or advisor\n",
            "Hi 221-15-4998, Your registration is successfull \n"
          ]
        }
      ],
      "source": [
        "#Inheritance #Polymorphism #Encapsulation\n",
        "class University:\n",
        "  chancellor=\"Mohammed Shahabuddin\"\n",
        "\n",
        "  def set_info(self,univ_name,univ_location,univ_type,univ_vc_name):\n",
        "    self.univ_name= univ_name              #Public Attribute\n",
        "    self._univ_location= univ_location    #Protected Atribute\n",
        "    self.__univ_type= univ_type           #Private Attribute\n",
        "    self.univ_vc_name= univ_vc_name\n",
        "\n",
        "  def get_info(self):\n",
        "    print(f\"University Name:{self.univ_name} \\n University Location: {self.univ_location}\")\n",
        "\n",
        "\n",
        "\n",
        "class Department(University):\n",
        "  def __init__(self, dept_id, dept_name, dept_head):\n",
        "    self.dept_id=dept_id\n",
        "    self.dept_name=dept_name\n",
        "    self.dept_head=dept_head\n",
        "    print(f\"{dept_name} department information is sucessfully inserted\")\n",
        "\n",
        "  def viewCampus(self):\n",
        "    print(\"Method is not overridden\")\n",
        "\n",
        "\n",
        "\n",
        "  def registration_req(self,student_id,dept,term, delay):\n",
        "      self.student_id=student_id\n",
        "      if (delay==True):\n",
        "        print(f\"Hi {student_id}, Your registration is successfull \")\n",
        "\n",
        "      else:\n",
        "        print(f\"Hi {student_id}, Your registration will be done by dept or advisor\")\n",
        "\n",
        "\n",
        "\n",
        "\n",
        "#University Class\n",
        "obj1=University()\n",
        "print(obj1.chancellor)\n",
        "\n",
        "\n",
        "#Department Class\n",
        "\n",
        "obj2=Department(\"15\",\"CSE\", \"SRHN\")\n",
        "obj2.viewCampus()\n",
        "obj2.registration_req(\"221-15-4997\", \"CSE\", \"Fall 2024\",False)\n",
        "obj2.registration_req(\"221-15-4998\", \"CSE\", \"Fall 2024\",True)\n",
        "\n",
        "\n",
        "\n",
        "\n",
        "\n"
      ]
    },
    {
      "cell_type": "code",
      "source": [
        "from logging import NullHandler\n",
        "def divide(x,y):\n",
        "  try: # Always Execute\n",
        "    result=x/y # x=10, y=2\n",
        "    print(result)\n",
        "  except: # Alternate of try\n",
        "    print(\"Error in try block\")\n",
        "  finally:\n",
        "    print(\"End of division\")\n",
        "\n",
        "divide(10,2)\n",
        "divide(10,0)\n"
      ],
      "metadata": {
        "colab": {
          "base_uri": "https://localhost:8080/"
        },
        "id": "vmDP2lHKYXQH",
        "outputId": "ec97c90e-5244-4e14-fc96-1094fdfd192d"
      },
      "execution_count": 18,
      "outputs": [
        {
          "output_type": "stream",
          "name": "stdout",
          "text": [
            "5.0\n",
            "End of division\n",
            "Error in try block\n",
            "End of division\n"
          ]
        }
      ]
    },
    {
      "cell_type": "code",
      "source": [],
      "metadata": {
        "id": "XDzDLa-8Wxtf"
      },
      "execution_count": null,
      "outputs": []
    },
    {
      "cell_type": "code",
      "source": [],
      "metadata": {
        "id": "xdFmjgZ4aw7J"
      },
      "execution_count": 16,
      "outputs": []
    }
  ]
}